{
 "cells": [
  {
   "cell_type": "code",
   "execution_count": 1,
   "id": "aa43c089",
   "metadata": {},
   "outputs": [
    {
     "ename": "ModuleNotFoundError",
     "evalue": "No module named 'networkx'",
     "output_type": "error",
     "traceback": [
      "\u001b[1;31m---------------------------------------------------------------------------\u001b[0m",
      "\u001b[1;31mModuleNotFoundError\u001b[0m                       Traceback (most recent call last)",
      "Cell \u001b[1;32mIn[1], line 1\u001b[0m\n\u001b[1;32m----> 1\u001b[0m \u001b[38;5;28;01mimport\u001b[39;00m \u001b[38;5;21;01mnetworkx\u001b[39;00m \u001b[38;5;28;01mas\u001b[39;00m \u001b[38;5;21;01mnx\u001b[39;00m\n\u001b[0;32m      2\u001b[0m \u001b[38;5;28;01mimport\u001b[39;00m \u001b[38;5;21;01mnumpy\u001b[39;00m \u001b[38;5;28;01mas\u001b[39;00m \u001b[38;5;21;01mnp\u001b[39;00m\n\u001b[0;32m      3\u001b[0m \u001b[38;5;28;01mimport\u001b[39;00m \u001b[38;5;21;01mmatplotlib\u001b[39;00m\u001b[38;5;21;01m.\u001b[39;00m\u001b[38;5;21;01mpyplot\u001b[39;00m \u001b[38;5;28;01mas\u001b[39;00m \u001b[38;5;21;01mplt\u001b[39;00m\n",
      "\u001b[1;31mModuleNotFoundError\u001b[0m: No module named 'networkx'"
     ]
    }
   ],
   "source": [
    "import networkx as nx\n",
    "import numpy as np\n",
    "import matplotlib.pyplot as plt\n",
    "import os"
   ]
  },
  {
   "cell_type": "code",
   "execution_count": null,
   "id": "004d4cf0",
   "metadata": {},
   "outputs": [],
   "source": [
    "import csv"
   ]
  },
  {
   "cell_type": "code",
   "execution_count": null,
   "id": "23479683",
   "metadata": {},
   "outputs": [],
   "source": [
    "nodes = []\n",
    "links = {}"
   ]
  },
  {
   "cell_type": "code",
   "execution_count": null,
   "id": "58482c3f",
   "metadata": {},
   "outputs": [],
   "source": [
    "with open('nodes.csv', newline='') as csvfile:\n",
    "    spamreader = csv.reader(csvfile, delimiter=',')\n",
    "    for row in spamreader:\n",
    "        nodes.append(row[0])"
   ]
  },
  {
   "cell_type": "code",
   "execution_count": null,
   "id": "9cc9f81a",
   "metadata": {},
   "outputs": [],
   "source": [
    "with open('links.csv', newline='') as csvfile:\n",
    "    spamreader = csv.reader(csvfile, delimiter=',')\n",
    "    for row in spamreader:\n",
    "        if row[0] in links:\n",
    "            links[row[0]].append(row[1])\n",
    "        else:\n",
    "            links[row[0]] = [row[1]]"
   ]
  },
  {
   "cell_type": "code",
   "execution_count": null,
   "id": "9677bb5e",
   "metadata": {},
   "outputs": [],
   "source": [
    "nodes"
   ]
  },
  {
   "cell_type": "code",
   "execution_count": null,
   "id": "43b193a4",
   "metadata": {},
   "outputs": [],
   "source": [
    "links"
   ]
  },
  {
   "cell_type": "markdown",
   "id": "9e6a49b7",
   "metadata": {},
   "source": [
    "### Ordering edges (makes life easier)"
   ]
  },
  {
   "cell_type": "code",
   "execution_count": null,
   "id": "aa96837a",
   "metadata": {},
   "outputs": [],
   "source": [
    "edges = {}\n",
    "for link in links:\n",
    "    link_list = links[link]\n",
    "    for i in range(0, len(link_list)):\n",
    "        link_list[i] = int(link_list[i])\n",
    "    \n",
    "    # Ordering the list\n",
    "    link_list.sort()\n",
    "    for i in range(0, len(link_list)):\n",
    "        link_list[i] = str(link_list[i])\n",
    "        \n",
    "    edges[link] = link_list"
   ]
  },
  {
   "cell_type": "code",
   "execution_count": null,
   "id": "377dd486",
   "metadata": {},
   "outputs": [],
   "source": [
    "edges"
   ]
  },
  {
   "cell_type": "markdown",
   "id": "b48e7d2e",
   "metadata": {},
   "source": [
    "### Building the full graph"
   ]
  },
  {
   "cell_type": "code",
   "execution_count": null,
   "id": "5257b11d",
   "metadata": {},
   "outputs": [],
   "source": [
    "graph = {}\n",
    "for node in nodes:\n",
    "    if node in links:\n",
    "        graph[node] = edges[node]\n",
    "    else:\n",
    "        graph[node] = []"
   ]
  },
  {
   "cell_type": "markdown",
   "id": "62cd41ba",
   "metadata": {},
   "source": [
    "### Starting DFS"
   ]
  },
  {
   "cell_type": "code",
   "execution_count": 54,
   "id": "47ac1f74",
   "metadata": {
    "scrolled": true
   },
   "outputs": [],
   "source": [
    "class DFS:\n",
    "    time = None\n",
    "    graph = None\n",
    "    start_node = None\n",
    "    parent = []\n",
    "    start_finish_time = {}\n",
    "    edges_types = []\n",
    "    \n",
    "    # Starts the class with initial position and graph\n",
    "    def __init__(self, start_node, graph):\n",
    "        self.graph = graph\n",
    "        self.start_node = start_node\n",
    "        self.__sort_graph()\n",
    "        self.time = 0\n",
    "        return\n",
    "    \n",
    "    # This function is only an abstration to simplify things.\n",
    "    # Each time that we call it, time increases by one.\n",
    "    def __get_time(self):\n",
    "        self.time = self.time + 1\n",
    "        return self.time\n",
    "    \n",
    "    # This function is only to make debugging easier.\n",
    "    def __sort_start_finish(self):\n",
    "        index = 0\n",
    "        nodes = list(self.start_finish_time)\n",
    "        last = len(nodes)\n",
    "        ordered_start_finish = {}\n",
    "        for n in range(1, 21):\n",
    "            ordered_start_finish[str(n)] = self.start_finish_time[str(n)]\n",
    "        self.start_finish_time = ordered_start_finish\n",
    "        return\n",
    "    \n",
    "    # This function is only to make debugging easier.\n",
    "    # In our class we stablished that there's no need to order the graph.\n",
    "    def __sort_graph(self):\n",
    "        index = 0\n",
    "        nodes = list(self.graph)\n",
    "        last = len(nodes)\n",
    "        ordered_graph = {}\n",
    "        for n in nodes:\n",
    "            if n == self.start_node:\n",
    "                break\n",
    "            index = index + 1\n",
    "        for n in (nodes[index:last] + nodes[0:index]):\n",
    "            ordered_graph[n] = self.graph[n]\n",
    "        self.graph = ordered_graph\n",
    "        return\n",
    "    \n",
    "    # Register start and finish times for each node\n",
    "    def __add_start_finish(self, node, start, finish):\n",
    "        print(\"Node {} started {} and finished {}\".format(node, start, finish))\n",
    "        self.start_finish_time[node] = [start, finish]\n",
    "        return\n",
    "    \n",
    "    # Finds node index\n",
    "    def __find_index(self, node1):\n",
    "        index = 0\n",
    "        for node in self.parent:\n",
    "            if node == node1: \n",
    "                break\n",
    "            index = index + 1\n",
    "        return index\n",
    "    \n",
    "    # Returns true if it's a tree node\n",
    "    # False if it's a forward node\n",
    "    def __is_it_tree(self, node1, node2):\n",
    "        index = self.__find_index(node1)\n",
    "        # By looking into the parent list, and, by having the total number of edges that this node has,\n",
    "        # we can determine if it's a tree or a foward node. A tree node wouldn't exist before it appeared in the parent node\n",
    "        # Of course, this only can be used, if we meet the premises of a forward node, which are: \n",
    "        # start1 < start2 and finish1 > finish2\n",
    "        search_span = len(self.graph[node1]) + index + 1\n",
    "        print(\"Probable forward node : {} -> {}\".format(node1, node2))\n",
    "        print(search_span)\n",
    "        print(index)\n",
    "        for i in range(index, search_span):\n",
    "            if self.parent[i] == node2:\n",
    "                return True\n",
    "        return False\n",
    "    \n",
    "    \n",
    "    # Function to classify an edge\n",
    "    def __edge_classification(self, node1, node2):\n",
    "        start_node1 = self.start_finish_time[node1][0]\n",
    "        finish_node1 = self.start_finish_time[node1][1]\n",
    "        start_node2 = self.start_finish_time[node2][0]\n",
    "        finish_node2 = self.start_finish_time[node2][1]\n",
    "        \n",
    "        # Backward Edge\n",
    "        if start_node2 < start_node1  and finish_node1 < finish_node2:\n",
    "            return \"backward\"\n",
    "        \n",
    "        # Cross Edge\n",
    "        if start_node1 > finish_node2:\n",
    "            return \"cross\"\n",
    "        \n",
    "        # Forward or tree nodes are harder\n",
    "        # They're to much alike, so, we need something bold\n",
    "        if self.__is_it_tree(node1, node2):\n",
    "            return \"tree\"\n",
    "        \n",
    "        return \"forward\"\n",
    "        \n",
    "    # Function to build the edge type file\n",
    "    def __classify_edges(self):\n",
    "        for node in self.graph:\n",
    "            for edge in self.graph[node]:\n",
    "                # Getting the type of an edge\n",
    "                edge_type = self.__edge_classification(node, edge)\n",
    "                self.edges_types.append([node, edge, edge_type])\n",
    "        return\n",
    "    \n",
    "    # Auxiliary function to visit nodes\n",
    "    def __dfs_visit(self, linked_nodes):\n",
    "        for n in linked_nodes:\n",
    "            if n not in self.parent:\n",
    "                # Getting the start time of the node\n",
    "                self.parent.append(n)\n",
    "                start_time = self.__get_time()\n",
    "                print(n)\n",
    "                self.__dfs_visit(self.graph[n])\n",
    "                # Getting the finish time of the node\n",
    "                finish_time = self.__get_time()\n",
    "                self.__add_start_finish(n, start_time, finish_time)\n",
    "        return\n",
    "    \n",
    "    # Function that generates everything\n",
    "    def run_dfs(self):\n",
    "        for node in self.graph:\n",
    "            if node not in self.parent:\n",
    "                self.parent.append(node)\n",
    "                start_time = self.__get_time()\n",
    "                print(node)\n",
    "                linked_nodes = self.graph[node]\n",
    "                self.__dfs_visit(linked_nodes)\n",
    "                finish_time = self.__get_time()\n",
    "                self.__add_start_finish(node, start_time, finish_time)  \n",
    "        self.__classify_edges()\n",
    "        self.__sort_start_finish()\n",
    "        return"
   ]
  },
  {
   "cell_type": "code",
   "execution_count": 55,
   "id": "72e63b22",
   "metadata": {},
   "outputs": [
    {
     "data": {
      "text/plain": [
       "[0]"
      ]
     },
     "execution_count": 55,
     "metadata": {},
     "output_type": "execute_result"
    }
   ],
   "source": [
    "list(range(0, 1))"
   ]
  },
  {
   "cell_type": "markdown",
   "id": "297a9f67",
   "metadata": {},
   "source": [
    "#### Runing DFS"
   ]
  },
  {
   "cell_type": "code",
   "execution_count": 56,
   "id": "79b8d368",
   "metadata": {},
   "outputs": [],
   "source": [
    "d = DFS('10', graph)"
   ]
  },
  {
   "cell_type": "code",
   "execution_count": 57,
   "id": "7e8ff85f",
   "metadata": {},
   "outputs": [
    {
     "name": "stdout",
     "output_type": "stream",
     "text": [
      "10\n",
      "8\n",
      "4\n",
      "9\n",
      "14\n",
      "2\n",
      "11\n",
      "Node 11 started 7 and finished 8\n",
      "Node 2 started 6 and finished 9\n",
      "Node 14 started 5 and finished 10\n",
      "Node 9 started 4 and finished 11\n",
      "13\n",
      "12\n",
      "Node 12 started 13 and finished 14\n",
      "Node 13 started 12 and finished 15\n",
      "Node 4 started 3 and finished 16\n",
      "Node 8 started 2 and finished 17\n",
      "Node 10 started 1 and finished 18\n",
      "15\n",
      "5\n",
      "Node 5 started 20 and finished 21\n",
      "Node 15 started 19 and finished 22\n",
      "16\n",
      "1\n",
      "Node 1 started 24 and finished 25\n",
      "3\n",
      "Node 3 started 26 and finished 27\n",
      "7\n",
      "Node 7 started 28 and finished 29\n",
      "Node 16 started 23 and finished 30\n",
      "17\n",
      "Node 17 started 31 and finished 32\n",
      "18\n",
      "Node 18 started 33 and finished 34\n",
      "19\n",
      "Node 19 started 35 and finished 36\n",
      "20\n",
      "Node 20 started 37 and finished 38\n",
      "6\n",
      "Node 6 started 39 and finished 40\n",
      "Probable forward node : 10 -> 8\n",
      "3\n",
      "0\n",
      "Probable forward node : 10 -> 12\n",
      "3\n",
      "0\n",
      "Probable forward node : 13 -> 12\n",
      "9\n",
      "7\n",
      "Probable forward node : 14 -> 2\n",
      "6\n",
      "4\n",
      "Probable forward node : 15 -> 5\n",
      "11\n",
      "9\n",
      "Probable forward node : 16 -> 1\n",
      "16\n",
      "11\n",
      "Probable forward node : 16 -> 3\n",
      "16\n",
      "11\n",
      "Probable forward node : 16 -> 7\n",
      "16\n",
      "11\n",
      "Probable forward node : 2 -> 11\n",
      "7\n",
      "5\n",
      "Probable forward node : 4 -> 9\n",
      "5\n",
      "2\n",
      "Probable forward node : 4 -> 13\n",
      "5\n",
      "2\n",
      "Probable forward node : 8 -> 4\n",
      "3\n",
      "1\n",
      "Probable forward node : 9 -> 14\n",
      "5\n",
      "3\n"
     ]
    }
   ],
   "source": [
    "d.run_dfs()"
   ]
  },
  {
   "cell_type": "code",
   "execution_count": 58,
   "id": "4e4784f7",
   "metadata": {},
   "outputs": [
    {
     "data": {
      "text/plain": [
       "0"
      ]
     },
     "execution_count": 58,
     "metadata": {},
     "output_type": "execute_result"
    }
   ],
   "source": [
    "index = 0\n",
    "for node in d.parent:\n",
    "    if node == '10': \n",
    "        break\n",
    "    index = index + 1\n",
    "index"
   ]
  },
  {
   "cell_type": "code",
   "execution_count": 59,
   "id": "89d4aa4f",
   "metadata": {},
   "outputs": [
    {
     "data": {
      "text/plain": [
       "{'10': ['8', '12'],\n",
       " '11': ['10'],\n",
       " '12': [],\n",
       " '13': ['12'],\n",
       " '14': ['2'],\n",
       " '15': ['5'],\n",
       " '16': ['1', '3', '4', '7'],\n",
       " '17': ['4'],\n",
       " '18': ['3', '9', '14', '16'],\n",
       " '19': ['5', '8', '15'],\n",
       " '20': ['1', '4'],\n",
       " '1': [],\n",
       " '2': ['11'],\n",
       " '3': [],\n",
       " '4': ['9', '13'],\n",
       " '5': ['9', '11'],\n",
       " '6': ['10', '11'],\n",
       " '7': ['9', '15'],\n",
       " '8': ['4'],\n",
       " '9': ['14']}"
      ]
     },
     "execution_count": 59,
     "metadata": {},
     "output_type": "execute_result"
    }
   ],
   "source": [
    "d.graph"
   ]
  },
  {
   "cell_type": "code",
   "execution_count": 60,
   "id": "71562bd6",
   "metadata": {},
   "outputs": [
    {
     "data": {
      "text/plain": [
       "{'1': [24, 25],\n",
       " '2': [6, 9],\n",
       " '3': [26, 27],\n",
       " '4': [3, 16],\n",
       " '5': [20, 21],\n",
       " '6': [39, 40],\n",
       " '7': [28, 29],\n",
       " '8': [2, 17],\n",
       " '9': [4, 11],\n",
       " '10': [1, 18],\n",
       " '11': [7, 8],\n",
       " '12': [13, 14],\n",
       " '13': [12, 15],\n",
       " '14': [5, 10],\n",
       " '15': [19, 22],\n",
       " '16': [23, 30],\n",
       " '17': [31, 32],\n",
       " '18': [33, 34],\n",
       " '19': [35, 36],\n",
       " '20': [37, 38]}"
      ]
     },
     "execution_count": 60,
     "metadata": {},
     "output_type": "execute_result"
    }
   ],
   "source": [
    "d.start_finish_time"
   ]
  },
  {
   "cell_type": "code",
   "execution_count": 61,
   "id": "e2d8fdf8",
   "metadata": {},
   "outputs": [
    {
     "data": {
      "text/plain": [
       "['10',\n",
       " '8',\n",
       " '4',\n",
       " '9',\n",
       " '14',\n",
       " '2',\n",
       " '11',\n",
       " '13',\n",
       " '12',\n",
       " '15',\n",
       " '5',\n",
       " '16',\n",
       " '1',\n",
       " '3',\n",
       " '7',\n",
       " '17',\n",
       " '18',\n",
       " '19',\n",
       " '20',\n",
       " '6']"
      ]
     },
     "execution_count": 61,
     "metadata": {},
     "output_type": "execute_result"
    }
   ],
   "source": [
    "d.parent"
   ]
  },
  {
   "cell_type": "code",
   "execution_count": 62,
   "id": "68801272",
   "metadata": {},
   "outputs": [
    {
     "data": {
      "text/plain": [
       "[['10', '8', 'tree'],\n",
       " ['10', '12', 'forward'],\n",
       " ['11', '10', 'backward'],\n",
       " ['13', '12', 'tree'],\n",
       " ['14', '2', 'tree'],\n",
       " ['15', '5', 'tree'],\n",
       " ['16', '1', 'tree'],\n",
       " ['16', '3', 'tree'],\n",
       " ['16', '4', 'cross'],\n",
       " ['16', '7', 'tree'],\n",
       " ['17', '4', 'cross'],\n",
       " ['18', '3', 'cross'],\n",
       " ['18', '9', 'cross'],\n",
       " ['18', '14', 'cross'],\n",
       " ['18', '16', 'cross'],\n",
       " ['19', '5', 'cross'],\n",
       " ['19', '8', 'cross'],\n",
       " ['19', '15', 'cross'],\n",
       " ['20', '1', 'cross'],\n",
       " ['20', '4', 'cross'],\n",
       " ['2', '11', 'tree'],\n",
       " ['4', '9', 'tree'],\n",
       " ['4', '13', 'forward'],\n",
       " ['5', '9', 'cross'],\n",
       " ['5', '11', 'cross'],\n",
       " ['6', '10', 'cross'],\n",
       " ['6', '11', 'cross'],\n",
       " ['7', '9', 'cross'],\n",
       " ['7', '15', 'cross'],\n",
       " ['8', '4', 'tree'],\n",
       " ['9', '14', 'tree']]"
      ]
     },
     "execution_count": 62,
     "metadata": {},
     "output_type": "execute_result"
    }
   ],
   "source": [
    "d.edges_types"
   ]
  },
  {
   "cell_type": "markdown",
   "id": "f0e65ff4",
   "metadata": {},
   "source": [
    "The algorithm to determine foward nodes discussed in class does not work for tree nodes, and, forward nodes. \n",
    "So, it took some real analysis to make the file"
   ]
  },
  {
   "cell_type": "code",
   "execution_count": 76,
   "id": "381c77b7",
   "metadata": {},
   "outputs": [],
   "source": [
    "G = nx.DiGraph()"
   ]
  },
  {
   "cell_type": "code",
   "execution_count": 77,
   "id": "450a36c6",
   "metadata": {},
   "outputs": [],
   "source": [
    "i = 0\n",
    "pos = {}\n",
    "for g in graph:\n",
    "    G.add_node(g)\n",
    "    for edge in graph[g]:\n",
    "        G.add_edge(g, edge)"
   ]
  },
  {
   "cell_type": "code",
   "execution_count": 78,
   "id": "e405b83d",
   "metadata": {},
   "outputs": [
    {
     "data": {
      "image/png": "[encoded data removed]",
      "text/plain": [
       "<Figure size 640x480 with 1 Axes>"
      ]
     },
     "metadata": {},
     "output_type": "display_data"
    }
   ],
   "source": [
    "nx.draw_networkx(G, pos = nx.random_layout(G, center=(50,50)))"
   ]
  },
  {
   "cell_type": "code",
   "execution_count": null,
   "id": "047fc11b",
   "metadata": {},
   "outputs": [],
   "source": []
  }
 ],
 "metadata": {
  "kernelspec": {
   "display_name": "Python 3 (ipykernel)",
   "language": "python",
   "name": "python3"
  },
  "language_info": {
   "codemirror_mode": {
    "name": "ipython",
    "version": 3
   },
   "file_extension": ".py",
   "mimetype": "text/x-python",
   "name": "python",
   "nbconvert_exporter": "python",
   "pygments_lexer": "ipython3",
   "version": "3.10.10"
  }
 },
 "nbformat": 4,
 "nbformat_minor": 5
}
